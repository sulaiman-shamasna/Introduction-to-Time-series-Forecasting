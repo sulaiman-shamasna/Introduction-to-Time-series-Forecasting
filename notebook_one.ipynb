{
 "cells": [
  {
   "cell_type": "markdown",
   "metadata": {},
   "source": [
    "# Intro to Time Series Forecasting\n",
    "---\n",
    "\n",
    "## Introduction\n",
    "In this notebook, we will learn how to work with and predict time series. Time series are a collection of time-dependent data points. That means that each data point is assigned to a specific timestamp. Ideally, these data points are in chronological order and in contant time intervals (e.g. every minute or everyday). The time series forecasting problem analyzes patterns in the past data to make predictions about the future. The most popular example is probably stock price prediction. Other examples are sales of seasonal clothing or weather forecasts. In contrast to regression problems, time series are time-dependent and show specific characteristics, such as trend and seasonality."
   ]
  },
  {
   "cell_type": "code",
   "execution_count": null,
   "metadata": {},
   "outputs": [],
   "source": [
    "import numpy as np # linear algebra\n",
    "import pandas as pd # data processing, CSV file I/O (e.g. pd.read_csv)\n",
    "\n",
    "import seaborn as sns # Visualization\n",
    "import matplotlib.pyplot as plt # Visualization\n",
    "\n",
    "from sklearn.metrics import mean_absolute_error, mean_squared_error\n",
    "import math\n",
    "\n",
    "import warnings # Supress warnings \n",
    "warnings.filterwarnings('ignore')\n",
    "\n",
    "df = pd.read_csv(\"Aquifer_Petrignano.csv\")\n",
    "\n",
    "### Simplifications for the sake of the tutorial ###\n",
    "# Drop data before 2009 for the purpose of this tutorial\n",
    "df = df[df.Rainfall_Bastia_Umbra.notna()].reset_index(drop=True)\n",
    "# Drop one of the target columns, so we can focus on only one target\n",
    "df = df.drop(['Depth_to_Groundwater_P24', 'Temperature_Petrignano'], axis=1)\n",
    "\n",
    "# Simplify column names\n",
    "df.columns = ['Date', 'Rainfall', 'Depth_to_Groundwater', 'Temperature', 'Drainage_Volume', 'River_Hydrometry']\n",
    "\n",
    "targets = ['Depth_to_Groundwater']\n",
    "features = [feature for feature in df.columns if feature not in targets]\n",
    "df.head()"
   ]
  }
 ],
 "metadata": {
  "language_info": {
   "name": "python"
  }
 },
 "nbformat": 4,
 "nbformat_minor": 2
}
